{
 "cells": [
  {
   "cell_type": "code",
   "execution_count": 76,
   "metadata": {},
   "outputs": [],
   "source": [
    "import pandas as pd\n",
    "import numpy as np\n",
    "\n",
    "import matplotlib.pyplot as plt\n",
    "from sklearn.manifold import TSNE\n",
    "\n",
    "import statsmodels.formula.api as smf\n",
    "\n",
    "import warnings\n",
    "warnings.filterwarnings(\"ignore\")\n",
    "\n",
    "\n",
    "sample_size = 100\n",
    "percent_ill = 0.5\n"
   ]
  },
  {
   "cell_type": "code",
   "execution_count": 70,
   "metadata": {},
   "outputs": [],
   "source": [
    "# Генерируем данные для больной группы\n",
    "\n",
    "def generate_ill(ss):\n",
    "    group_data = {\n",
    "    'is_ill': np.ones(ss, dtype=int),\n",
    "    'F1': np.random.normal(loc=6, scale=2, size=ss),\n",
    "    'F2': np.random.normal(loc=6, scale=3, size=ss),\n",
    "    'F3': np.random.normal(loc=4, scale=1, size=ss),\n",
    "    'F4': np.random.normal(loc=7, scale=2, size=ss),\n",
    "    'F5': np.random.normal(loc=5, scale=1, size=ss)\n",
    "    }\n",
    "    \n",
    "    group_data = pd.DataFrame(group_data)\n",
    "    return group_data\n",
    "\n",
    "    # Генерируем данные для здоровой группы\n",
    "def generate_healthy(ss):\n",
    "    group_data = {\n",
    "    'is_ill': np.zeros(ss, dtype=int),\n",
    "    'F1': np.random.normal(loc=3, scale=1, size=ss),\n",
    "    'F2': np.random.normal(loc=7, scale=2, size=ss),\n",
    "    'F3': np.random.normal(loc=6, scale=2, size=ss),\n",
    "    'F4': np.random.normal(loc=5, scale=2, size=ss),\n",
    "    'F5': np.random.normal(loc=3, scale=1, size=ss)\n",
    "        }\n",
    "    \n",
    "    group_data = pd.DataFrame(group_data)\n",
    "    return group_data\n"
   ]
  },
  {
   "cell_type": "code",
   "execution_count": 79,
   "metadata": {},
   "outputs": [],
   "source": [
    "def draw_scatter(df, out_var):\n",
    "\n",
    "    # Separate features and labels\n",
    "    X = df.drop(out_var, axis=1)\n",
    "    y = df[out_var]\n",
    "\n",
    "    # Apply t-SNE\n",
    "    tsne = TSNE(n_components=2, random_state=1)\n",
    "    X_tsne = tsne.fit_transform(X)\n",
    "\n",
    "    # Create a DataFrame with the t-SNE results\n",
    "    df_tsne = pd.DataFrame(data=X_tsne, columns=['Component 1', 'Component 2'])\n",
    "    df_tsne[out_var] = y\n",
    "\n",
    "    # Plot the scatterplot\n",
    "    plt.figure(figsize=(8, 6))\n",
    "    colors = {0: 'red', 1: 'green',2:'orange'}  # Assign colors to classes\n",
    "    plt.scatter(df_tsne['Component 1'], df_tsne['Component 2'], c=df_tsne[out_var].map(colors), alpha=0.5)\n",
    "    plt.title('t-SNE Scatterplot of Two Groups')\n",
    "    plt.xlabel('Component 1')\n",
    "    plt.ylabel('Component 2')\n",
    "    plt.show()"
   ]
  },
  {
   "cell_type": "code",
   "execution_count": 72,
   "metadata": {},
   "outputs": [],
   "source": [
    "def log_regression(df, out_var):\n",
    "\n",
    "    formula = f\"{out_var} ~ F1+F2+F3+F4+F5\"\n",
    "\n",
    "    model = smf.logit(formula=formula, data=df).fit()\n",
    "    \n",
    "    print(model.summary())"
   ]
  },
  {
   "cell_type": "code",
   "execution_count": 73,
   "metadata": {},
   "outputs": [],
   "source": [
    "village_a = generate_ill(sample_size)\n",
    "village_b = generate_ill(int(sample_size*percent_ill))\n",
    "village_b = pd.concat([village_b, generate_healthy(int(sample_size*(1-percent_ill)))], ignore_index=True)\n",
    "\n"
   ]
  },
  {
   "cell_type": "code",
   "execution_count": 77,
   "metadata": {},
   "outputs": [
    {
     "name": "stdout",
     "output_type": "stream",
     "text": [
      "Optimization terminated successfully.\n",
      "         Current function value: 0.189020\n",
      "         Iterations 8\n",
      "                           Logit Regression Results                           \n",
      "==============================================================================\n",
      "Dep. Variable:                 is_ill   No. Observations:                  100\n",
      "Model:                          Logit   Df Residuals:                       94\n",
      "Method:                           MLE   Df Model:                            5\n",
      "Date:                Sat, 16 Dec 2023   Pseudo R-squ.:                  0.7273\n",
      "Time:                        23:50:28   Log-Likelihood:                -18.902\n",
      "converged:                       True   LL-Null:                       -69.315\n",
      "Covariance Type:            nonrobust   LLR p-value:                 3.541e-20\n",
      "==============================================================================\n",
      "                 coef    std err          z      P>|z|      [0.025      0.975]\n",
      "------------------------------------------------------------------------------\n",
      "Intercept     -3.4475      2.636     -1.308      0.191      -8.613       1.718\n",
      "F1             0.9649      0.328      2.942      0.003       0.322       1.608\n",
      "F2            -0.2519      0.173     -1.458      0.145      -0.591       0.087\n",
      "F3            -0.9621      0.312     -3.080      0.002      -1.574      -0.350\n",
      "F4             0.3288      0.230      1.430      0.153      -0.122       0.779\n",
      "F5             0.9211      0.489      1.883      0.060      -0.038       1.880\n",
      "==============================================================================\n"
     ]
    }
   ],
   "source": [
    "#Search ill in second village\n",
    "\n",
    "log_regression(village_b,\"is_ill\")"
   ]
  },
  {
   "cell_type": "code",
   "execution_count": 80,
   "metadata": {},
   "outputs": [
    {
     "data": {
      "image/png": "[encoded data removed]",
      "text/plain": [
       "<Figure size 576x432 with 1 Axes>"
      ]
     },
     "metadata": {
      "needs_background": "light"
     },
     "output_type": "display_data"
    }
   ],
   "source": [
    "#Search visible clusters in second village highlight ill\n",
    "\n",
    "draw_scatter(village_b, \"is_ill\")\n",
    "\n"
   ]
  }
 ],
 "metadata": {
  "kernelspec": {
   "display_name": "Python 3",
   "language": "python",
   "name": "python3"
  },
  "language_info": {
   "codemirror_mode": {
    "name": "ipython",
    "version": 3
   },
   "file_extension": ".py",
   "mimetype": "text/x-python",
   "name": "python",
   "nbconvert_exporter": "python",
   "pygments_lexer": "ipython3",
   "version": "3.10.2"
  }
 },
 "nbformat": 4,
 "nbformat_minor": 2
}
